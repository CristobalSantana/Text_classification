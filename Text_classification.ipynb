{
 "cells": [
  {
   "cell_type": "markdown",
   "id": "a0277d99",
   "metadata": {},
   "source": [
    "# Text_Classifitacion: Text classification"
   ]
  },
  {
   "cell_type": "markdown",
   "id": "ed9c9fb7",
   "metadata": {},
   "source": [
    "## Problema: \n",
    "Para un contexto de multi-label classification con imbalance classes, poder entrenar modelos de machine learning con texto y su respectiva etiqueta de la emoción de cada texto y obtener por medio de métricas de errores el desempeño de cada modelo. "
   ]
  },
  {
   "cell_type": "markdown",
   "id": "1e6b8b55",
   "metadata": {},
   "source": [
    "## Objetivos generales:"
   ]
  },
  {
   "cell_type": "markdown",
   "id": "fa85d3f2",
   "metadata": {},
   "source": [
    "Entrenar modelos de machine learning con texto (text_classifitacion_train.csv) y predecir nuevos input de texto (text_classifitacion_test.csv)"
   ]
  },
  {
   "cell_type": "markdown",
   "id": "37c70976",
   "metadata": {},
   "source": [
    "## Objetivos específicos:\n",
    "1. Construir un modelo que sea capaz de clasificar las distintas emociones. El modelo queda a criterio de la/el Data Scientist.\n",
    "2. Describir paso a paso qué se está haciendo y por qué.\n",
    "3. Entregar un análisis de las diferentes métricas utilizadas (accuracy, F1-score, entre otras).\n",
    "4. En base a la clasificación de los comentarios, construir un indicador o KPI capaz de medir el nivel de satisfacción global, explicar significado y justificar la selección."
   ]
  },
  {
   "cell_type": "markdown",
   "id": "16d9e6e3",
   "metadata": {},
   "source": [
    "### Solución:\n",
    "Para la clasificación de texto de usaron 3 métodos y 4 modelos de machine learning junto con 3 métricas de errores:\n",
    "\n",
    "\n",
    "**a)Métodos:** \n",
    "\n",
    "\n",
    "**a.1) Bag of words/Using Word Counts as a Feature:** \n",
    "\n",
    "Este método cuenta las palabras que hay en cada frase. La teoría detrás de este método, es que hay emociones las cuales necesitan de más texto para expresarse, como por ejemplo la molestia. Antes de usar este método se hizo un pre-procesamiento de los textos. Lo que se usó fue lo siguiente: \n",
    "\n",
    "\n",
    "    a.1.1) Punctuation Removal: se eliminan todos los signos de puntuación del texto. La biblioteca de cadenas de Python contiene una lista predefinida de puntuaciones como: '!\"#$%&'()*+,-./:;?@[\\]^_`{|}~' \n",
    "\n",
    "\n",
    "    a.1.2) Lowering the text: Es uno de los pasos de preprocesamiento de texto más comunes de Python en el que el texto se convierte en minúsculas.\n",
    "\n",
    "\n",
    "    a.1.3) Tokenization: En este paso, el texto se divide en unidades más pequeñas. Podemos usar la tokenización de oraciones o la tokenización de palabras en función de la declaración de nuestro problema.\n",
    "\n",
    "\n",
    "    a.1.4) Stop word removal: Stopwords son las palabras de uso común y se eliminan del texto ya que no agregan ningún valor al análisis. Estas palabras tienen menos o ningún significado.  La biblioteca NLTK consta de una lista de palabras que se consideran palabras vacías para el idioma inglés. Algunos de ellos son: [yo, yo, mi, yo mismo, nosotros, nuestro, nuestro, nosotros mismos, ustedes, ustedes, ustedes, ustedes, ustedes, ustedes, ustedes, ustedes mismos, él, la mayoría, otros, algunos, tales, no, ni, no, solo, propio, igual, entonces, también, muy, s, t, puede, voluntad, solo, don, don't, should, should've, ahora, d, ll, m, o, re, ve, y, ain, no son, podría, no podría, no, no]\n",
    "\n",
    "\n",
    "    a.1.5) Stemming: También se conoce como el paso de estandarización del texto en el que las palabras se derivan o se reducen a su forma raíz/base. Por ejemplo, palabras como 'programador', 'programación', 'programa' se derivarán a 'programa'.\n",
    "\n",
    "\n",
    "    a.1.6) Lemmatization: Deriva la palabra, pero se asegura de que no pierda su significado. La lematización tiene un diccionario predefinido que almacena el contexto de las palabras y verifica la palabra en el diccionario.\n",
    "    \n",
    "\n",
    "\n",
    "a.2) **Modelos:** \n",
    "\n",
    "Debido a que es un problema de clasificación, se optaron por los siguientes modelos:\n",
    "\n",
    "\n",
    "a.2.1) Naive Bayes\n",
    "\n",
    "\n",
    "a.2.2) KNN\n",
    "\n",
    "\n",
    "a.2.3) SVM\n",
    "\n",
    "\n",
    "a.2.4) Logistic Regression\n",
    "\n",
    "a.3) **Métricas de errores:**\n",
    "\n",
    "Se optaron por 3 métricas de errores:\n",
    "\n",
    "a.3.1) Accuracy: Se refiere a lo cerca que está el resultado de una medición del valor verdadero dentro de la matriz de confusión en la clasificación de resultados.\n",
    "\n",
    "a.3.2)F1 score:  métrica muy empleada porque nos resume la precisión y sensibilidad en una sola métrica. Por ello es de gran utilidad cuando la distribución de las clases es desigual. El valor más alto posible de F1 Score es 1, lo que indica una precisión y sensibilidad perfectas, y el valor más bajo posible es 0, si la precisión o la sensibilidad es cero.\n",
    "\n",
    "a.3.3) Recall: se representa como la fracción de verdaderos positivos.\n",
    "\n",
    "a.3.4) Precision: Cuantifica el número de predicciones de clase positivas que realmente pertenecen a la clase positiva\n",
    "\n",
    "a.3.5) Matriz de confusión: Herramienta que permite visualizar el desempeño de un algoritmo de aprendizaje supervisado. Cada columna de la matriz representa a las instancias de la clase real, mientras que cada fila representa las predicciones para cada claseSe realizó solo para el modelo que obtuvo el mejor rendimiento"
   ]
  },
  {
   "cell_type": "markdown",
   "id": "98d088dd",
   "metadata": {},
   "source": [
    "#### Se cargan las librerías"
   ]
  },
  {
   "cell_type": "code",
   "execution_count": 1,
   "id": "3e1c027a",
   "metadata": {},
   "outputs": [],
   "source": [
    "import pandas as pd\n",
    "import seaborn as sns\n",
    "import matplotlib.pyplot as plt\n",
    "from sklearn import preprocessing\n",
    "from sklearn.model_selection import train_test_split \n",
    "import numpy as np\n",
    "import sklearn\n",
    "from sklearn.metrics import accuracy_score\n",
    "from sklearn.svm import LinearSVC\n",
    "from sklearn.metrics import f1_score\n",
    "from sklearn.linear_model import LogisticRegressionCV\n",
    "from sklearn.neighbors import KNeighborsClassifier\n",
    "from sklearn.naive_bayes import BernoulliNB\n",
    "from sklearn.metrics import recall_score\n",
    "from sklearn.metrics import precision_score"
   ]
  },
  {
   "cell_type": "code",
   "execution_count": 2,
   "id": "d17f8ae2",
   "metadata": {},
   "outputs": [
    {
     "data": {
      "text/html": [
       "<div>\n",
       "<style scoped>\n",
       "    .dataframe tbody tr th:only-of-type {\n",
       "        vertical-align: middle;\n",
       "    }\n",
       "\n",
       "    .dataframe tbody tr th {\n",
       "        vertical-align: top;\n",
       "    }\n",
       "\n",
       "    .dataframe thead th {\n",
       "        text-align: right;\n",
       "    }\n",
       "</style>\n",
       "<table border=\"1\" class=\"dataframe\">\n",
       "  <thead>\n",
       "    <tr style=\"text-align: right;\">\n",
       "      <th></th>\n",
       "      <th>Emotion</th>\n",
       "      <th>Emotion_number</th>\n",
       "    </tr>\n",
       "  </thead>\n",
       "  <tbody>\n",
       "    <tr>\n",
       "      <th>0</th>\n",
       "      <td>admiration</td>\n",
       "      <td>0</td>\n",
       "    </tr>\n",
       "    <tr>\n",
       "      <th>1</th>\n",
       "      <td>amusement</td>\n",
       "      <td>1</td>\n",
       "    </tr>\n",
       "    <tr>\n",
       "      <th>2</th>\n",
       "      <td>anger</td>\n",
       "      <td>2</td>\n",
       "    </tr>\n",
       "    <tr>\n",
       "      <th>3</th>\n",
       "      <td>annoyance</td>\n",
       "      <td>3</td>\n",
       "    </tr>\n",
       "    <tr>\n",
       "      <th>4</th>\n",
       "      <td>approval</td>\n",
       "      <td>4</td>\n",
       "    </tr>\n",
       "    <tr>\n",
       "      <th>5</th>\n",
       "      <td>caring</td>\n",
       "      <td>5</td>\n",
       "    </tr>\n",
       "    <tr>\n",
       "      <th>6</th>\n",
       "      <td>confusion</td>\n",
       "      <td>6</td>\n",
       "    </tr>\n",
       "    <tr>\n",
       "      <th>7</th>\n",
       "      <td>curiosity</td>\n",
       "      <td>7</td>\n",
       "    </tr>\n",
       "    <tr>\n",
       "      <th>8</th>\n",
       "      <td>desire</td>\n",
       "      <td>8</td>\n",
       "    </tr>\n",
       "    <tr>\n",
       "      <th>9</th>\n",
       "      <td>disappointment</td>\n",
       "      <td>9</td>\n",
       "    </tr>\n",
       "    <tr>\n",
       "      <th>10</th>\n",
       "      <td>disapproval</td>\n",
       "      <td>10</td>\n",
       "    </tr>\n",
       "    <tr>\n",
       "      <th>11</th>\n",
       "      <td>disgust</td>\n",
       "      <td>11</td>\n",
       "    </tr>\n",
       "    <tr>\n",
       "      <th>12</th>\n",
       "      <td>embarrassment</td>\n",
       "      <td>12</td>\n",
       "    </tr>\n",
       "    <tr>\n",
       "      <th>13</th>\n",
       "      <td>excitement</td>\n",
       "      <td>13</td>\n",
       "    </tr>\n",
       "    <tr>\n",
       "      <th>14</th>\n",
       "      <td>fear</td>\n",
       "      <td>14</td>\n",
       "    </tr>\n",
       "    <tr>\n",
       "      <th>15</th>\n",
       "      <td>gratitude</td>\n",
       "      <td>15</td>\n",
       "    </tr>\n",
       "    <tr>\n",
       "      <th>16</th>\n",
       "      <td>grief</td>\n",
       "      <td>16</td>\n",
       "    </tr>\n",
       "    <tr>\n",
       "      <th>17</th>\n",
       "      <td>joy</td>\n",
       "      <td>17</td>\n",
       "    </tr>\n",
       "    <tr>\n",
       "      <th>18</th>\n",
       "      <td>love</td>\n",
       "      <td>18</td>\n",
       "    </tr>\n",
       "    <tr>\n",
       "      <th>19</th>\n",
       "      <td>nervousness</td>\n",
       "      <td>19</td>\n",
       "    </tr>\n",
       "    <tr>\n",
       "      <th>20</th>\n",
       "      <td>optimism</td>\n",
       "      <td>20</td>\n",
       "    </tr>\n",
       "    <tr>\n",
       "      <th>21</th>\n",
       "      <td>pride</td>\n",
       "      <td>21</td>\n",
       "    </tr>\n",
       "    <tr>\n",
       "      <th>22</th>\n",
       "      <td>realization</td>\n",
       "      <td>22</td>\n",
       "    </tr>\n",
       "    <tr>\n",
       "      <th>23</th>\n",
       "      <td>relief</td>\n",
       "      <td>23</td>\n",
       "    </tr>\n",
       "    <tr>\n",
       "      <th>24</th>\n",
       "      <td>remorse</td>\n",
       "      <td>24</td>\n",
       "    </tr>\n",
       "    <tr>\n",
       "      <th>25</th>\n",
       "      <td>sadness</td>\n",
       "      <td>25</td>\n",
       "    </tr>\n",
       "    <tr>\n",
       "      <th>26</th>\n",
       "      <td>surprise</td>\n",
       "      <td>26</td>\n",
       "    </tr>\n",
       "    <tr>\n",
       "      <th>27</th>\n",
       "      <td>neutral</td>\n",
       "      <td>27</td>\n",
       "    </tr>\n",
       "  </tbody>\n",
       "</table>\n",
       "</div>"
      ],
      "text/plain": [
       "           Emotion  Emotion_number\n",
       "0       admiration               0\n",
       "1        amusement               1\n",
       "2            anger               2\n",
       "3        annoyance               3\n",
       "4         approval               4\n",
       "5           caring               5\n",
       "6        confusion               6\n",
       "7        curiosity               7\n",
       "8           desire               8\n",
       "9   disappointment               9\n",
       "10     disapproval              10\n",
       "11         disgust              11\n",
       "12   embarrassment              12\n",
       "13      excitement              13\n",
       "14            fear              14\n",
       "15       gratitude              15\n",
       "16           grief              16\n",
       "17             joy              17\n",
       "18            love              18\n",
       "19     nervousness              19\n",
       "20        optimism              20\n",
       "21           pride              21\n",
       "22     realization              22\n",
       "23          relief              23\n",
       "24         remorse              24\n",
       "25         sadness              25\n",
       "26        surprise              26\n",
       "27         neutral              27"
      ]
     },
     "execution_count": 2,
     "metadata": {},
     "output_type": "execute_result"
    }
   ],
   "source": [
    "test=pd.read_csv('text_classification_test.csv')\n",
    "train=pd.read_csv('text_classification_train.csv')\n",
    "emotions= pd.read_csv('emotions.txt', delimiter = \"\\t\", names= ['Emotion'])\n",
    "counts_emotions=train['emotion'].str.split(',').explode('emotion').value_counts()\n",
    "emotion_number=list(range(0,28,1))\n",
    "emotions['Emotion_number']=emotion_number\n",
    "emotions.head(28)"
   ]
  },
  {
   "cell_type": "code",
   "execution_count": 3,
   "id": "50ac31e7",
   "metadata": {},
   "outputs": [
    {
     "name": "stdout",
     "output_type": "stream",
     "text": [
      "Resultant dictionary is : {0: 'admiration', 1: 'amusement', 2: 'anger', 3: 'annoyance', 4: 'approval', 5: 'caring', 6: 'confusion', 7: 'curiosity', 8: 'desire', 9: 'disappointment', 10: 'disapproval', 11: 'disgust', 12: 'embarrassment', 13: 'excitement', 14: 'fear', 15: 'gratitude', 16: 'grief', 17: 'joy', 18: 'love', 19: 'nervousness', 20: 'optimism', 21: 'pride', 22: 'realization', 23: 'relief', 24: 'remorse', 25: 'sadness', 26: 'surprise', 27: 'neutral'}\n"
     ]
    }
   ],
   "source": [
    "label_to_text= {emotions['Emotion_number'][i]: emotions['Emotion'][i] for i in range(len(emotions['Emotion_number']))}\n",
    "print(\"Resultant dictionary is : \" + str(label_to_text) )"
   ]
  },
  {
   "cell_type": "code",
   "execution_count": 4,
   "id": "b2b5f679",
   "metadata": {},
   "outputs": [
    {
     "data": {
      "text/plain": [
       "0    My favourite food is anything I didn't have to...\n",
       "1    Now if he does off himself, everyone will thin...\n",
       "2                       WHY THE FUCK IS BAYLESS ISOING\n",
       "3                          To make her feel threatened\n",
       "4                               Dirty Southern Wankers\n",
       "Name: text, dtype: object"
      ]
     },
     "execution_count": 4,
     "metadata": {},
     "output_type": "execute_result"
    }
   ],
   "source": [
    "train['text'].head()"
   ]
  },
  {
   "cell_type": "code",
   "execution_count": 5,
   "id": "fa4d181e",
   "metadata": {},
   "outputs": [
    {
     "data": {
      "text/plain": [
       "0       27\n",
       "1       27\n",
       "2        2\n",
       "3       14\n",
       "4        3\n",
       "5       26\n",
       "6       15\n",
       "7     8,20\n",
       "8        0\n",
       "9       27\n",
       "10       6\n",
       "11     1,4\n",
       "12      27\n",
       "13       5\n",
       "14       3\n",
       "15    3,12\n",
       "16      15\n",
       "17       2\n",
       "18      27\n",
       "19    6,22\n",
       "Name: emotion, dtype: object"
      ]
     },
     "execution_count": 5,
     "metadata": {},
     "output_type": "execute_result"
    }
   ],
   "source": [
    "train['emotion'].head(20)"
   ]
  },
  {
   "cell_type": "markdown",
   "id": "574aad72",
   "metadata": {},
   "source": [
    "### Pre-procesamiento del texto"
   ]
  },
  {
   "cell_type": "code",
   "execution_count": 6,
   "id": "e1eea899",
   "metadata": {},
   "outputs": [
    {
     "name": "stderr",
     "output_type": "stream",
     "text": [
      "[nltk_data] Downloading package stopwords to\n",
      "[nltk_data]     C:\\Users\\crisf\\AppData\\Roaming\\nltk_data...\n",
      "[nltk_data]   Package stopwords is already up-to-date!\n",
      "[nltk_data] Downloading package wordnet to\n",
      "[nltk_data]     C:\\Users\\crisf\\AppData\\Roaming\\nltk_data...\n",
      "[nltk_data]   Package wordnet is already up-to-date!\n",
      "[nltk_data] Downloading package omw-1.4 to\n",
      "[nltk_data]     C:\\Users\\crisf\\AppData\\Roaming\\nltk_data...\n",
      "[nltk_data]   Package omw-1.4 is already up-to-date!\n"
     ]
    }
   ],
   "source": [
    "#1. Punctuation Removal:\n",
    "import string\n",
    "string.punctuation\n",
    "\n",
    "#Remove punctuation\n",
    "def remove_punctuation(text):\n",
    "    punctuationfree=\"\".join([i for i in text if i not in string.punctuation])\n",
    "    return punctuationfree\n",
    "\n",
    "train['text']= train['text'].apply(lambda x:remove_punctuation(x))\n",
    "test['text']= test['text'].apply(lambda x:remove_punctuation(x))\n",
    "\n",
    "#2. Lowering the text\n",
    "\n",
    "train['text']= train['text'].apply(lambda x: x.lower())\n",
    "test['text']= test['text'].apply(lambda x: x.lower())\n",
    "\n",
    "#3. Tokenization:\n",
    "    \n",
    "#defining function for tokenization\n",
    "import nltk\n",
    "def tokenization(text):\n",
    "    tokens = nltk.word_tokenize(text)\n",
    "    return tokens\n",
    "#applying function to the column\n",
    "train['text']= train['text'].apply(lambda x: tokenization(x))\n",
    "test['text']= test['text'].apply(lambda x: tokenization(x))\n",
    "\n",
    "\n",
    "#4. Stop word removal: \n",
    "    \n",
    "nltk.download('stopwords')\n",
    "#Stop words present in the library\n",
    "stopwords = nltk.corpus.stopwords.words('english')\n",
    "stopwords[0:10]\n",
    "['i', 'me', 'my', 'myself', 'we', 'our', 'ours', 'ourselves', 'you', \"you're\"]\n",
    "\n",
    "#Remove stopwords from tokenized text\n",
    "def remove_stopwords(text):\n",
    "    output= [i for i in text if i not in stopwords]\n",
    "    return output\n",
    "\n",
    "train['text']= train['text'].apply(lambda x:remove_stopwords(x))\n",
    "test['text']= test['text'].apply(lambda x:remove_stopwords(x))\n",
    "\n",
    "\n",
    "#5. Stemming: \n",
    "    \n",
    "#importing the Stemming function from nltk library\n",
    "from nltk.stem.porter import PorterStemmer\n",
    "#defining the object for stemming\n",
    "porter_stemmer = PorterStemmer()\n",
    "\n",
    "#defining a function for stemming\n",
    "def stemming(text):\n",
    "    stem_text = [porter_stemmer.stem(word) for word in text]\n",
    "    return stem_text\n",
    "train['text']=train['text'].apply(lambda x: stemming(x))\n",
    "test['text']=test['text'].apply(lambda x: stemming(x))\n",
    "\n",
    "#6. Lemmatization: \n",
    "    \n",
    "from nltk.stem import WordNetLemmatizer\n",
    "nltk.download('wordnet')\n",
    "nltk.download('omw-1.4')\n",
    "#defining the object for Lemmatization\n",
    "wordnet_lemmatizer = WordNetLemmatizer()\n",
    "\n",
    "#defining the function for lemmatization\n",
    "def lemmatizer(text):\n",
    "    lemm_text = [wordnet_lemmatizer.lemmatize(word) for word in text]\n",
    "    return lemm_text\n",
    "train['text']=train['text'].apply(lambda x:lemmatizer(x))\n",
    "test['text']=test['text'].apply(lambda x:lemmatizer(x))"
   ]
  },
  {
   "cell_type": "code",
   "execution_count": 7,
   "id": "3bdb0587",
   "metadata": {},
   "outputs": [
    {
     "data": {
      "text/plain": [
       "0                 [favourit, food, anyth, didnt, cook]\n",
       "1    [everyon, think, he, laugh, screw, peopl, inst...\n",
       "2                                 [fuck, bayless, iso]\n",
       "3                               [make, feel, threaten]\n",
       "4                            [dirti, southern, wanker]\n",
       "Name: text, dtype: object"
      ]
     },
     "execution_count": 7,
     "metadata": {},
     "output_type": "execute_result"
    }
   ],
   "source": [
    "train['text'].head()"
   ]
  },
  {
   "cell_type": "code",
   "execution_count": 8,
   "id": "35c7a819",
   "metadata": {},
   "outputs": [
    {
     "data": {
      "text/plain": [
       "0    [’, realli, sorri, situat, although, love, nam...\n",
       "1                                         [wonder, aw]\n",
       "2    [king, fan, good, luck, guy, interest, game, w...\n",
       "3           [didnt, know, thank, teach, someth, today]\n",
       "4    [got, bore, haunt, earth, thousand, year, ulti...\n",
       "Name: text, dtype: object"
      ]
     },
     "execution_count": 8,
     "metadata": {},
     "output_type": "execute_result"
    }
   ],
   "source": [
    "test['text'].head()"
   ]
  },
  {
   "cell_type": "markdown",
   "id": "341c1850",
   "metadata": {},
   "source": [
    "### Método 1: Using Word Counts as a Feature"
   ]
  },
  {
   "cell_type": "code",
   "execution_count": 9,
   "id": "1fa3ab95",
   "metadata": {},
   "outputs": [],
   "source": [
    "#Contamos las palabras que hay en la columna texto\n",
    "train['word_count'] =train['text'].apply(lambda x: len(x))\n",
    "test['word_count'] =test['text'].apply(lambda x: len(x))\n",
    "\n",
    "count_text=count_text=train.assign(emotion=train['emotion'].str.split(',')).explode(\"emotion\")\n",
    "emotion_words=count_text.groupby('emotion')['word_count'].sum().reset_index()\n",
    "\n",
    "text_df=emotion_words['emotion']\n",
    "text_df=pd.DataFrame(text_df)\n",
    "text_df[\"text\"] = text_df[\"emotion\"].str.strip().astype(int).map(label_to_text)"
   ]
  },
  {
   "cell_type": "markdown",
   "id": "da581d6d",
   "metadata": {},
   "source": [
    "#### A traves de este gráfico categórico, podemos ver las emociones y cuántas palabras hay por emoción"
   ]
  },
  {
   "cell_type": "code",
   "execution_count": 10,
   "id": "bd9ac0e7",
   "metadata": {},
   "outputs": [
    {
     "data": {
      "image/png": "[encoded data removed]",
      "text/plain": [
       "<Figure size 1500x800 with 1 Axes>"
      ]
     },
     "metadata": {},
     "output_type": "display_data"
    }
   ],
   "source": [
    "g=sns.catplot(y='word_count', x='emotion', data=emotion_words, kind='bar')\n",
    "g.fig.set_size_inches(15, 8)\n",
    "g.fig.subplots_adjust(top=0.81, right=0.86)\n",
    "ax = g.facet_axis(0, 0)\n",
    "for c in ax.containers:\n",
    "    labels = text_df['text']\n",
    "    ax.bar_label(c, labels=labels, label_type='edge')"
   ]
  },
  {
   "cell_type": "markdown",
   "id": "da748cde",
   "metadata": {},
   "source": [
    "###  Debido a que text_classification_test.csv no cuenta con etiquetas, se entrenarán los modelos y obtendrán las métricas de errores de text_classification_train.csv, para luego ver el mejor modelo y predecir los datos de text_classification_test.csv"
   ]
  },
  {
   "cell_type": "code",
   "execution_count": 11,
   "id": "ebbddee7",
   "metadata": {},
   "outputs": [],
   "source": [
    "Y=count_text['emotion']\n",
    "x=count_text['word_count']\n",
    "X_train,X_test,y_train,y_test= train_test_split(x,Y, test_size=0.2, random_state=np.random)\n",
    "le = preprocessing.LabelEncoder()\n",
    "y_train = le.fit_transform(y_train)\n",
    "y_test = le.transform(y_test)\n",
    "X_train = X_train.values.reshape(-1,1)\n",
    "X_test = X_test.values.reshape(-1,1)"
   ]
  },
  {
   "cell_type": "markdown",
   "id": "293af839",
   "metadata": {},
   "source": [
    "#### Modelo Naive Bayes"
   ]
  },
  {
   "cell_type": "code",
   "execution_count": 12,
   "id": "a3435142",
   "metadata": {},
   "outputs": [
    {
     "data": {
      "text/plain": [
       "'La accuracy para nb es: 0.2802'"
      ]
     },
     "execution_count": 12,
     "metadata": {},
     "output_type": "execute_result"
    }
   ],
   "source": [
    "nb= BernoulliNB(force_alpha=True)\n",
    "nb.fit(X_train, y_train)\n",
    "y_preds_nb = nb.predict(X_test)\n",
    "f\"La accuracy para nb es: {accuracy_score(y_test,y_preds_nb):.4}\""
   ]
  },
  {
   "cell_type": "code",
   "execution_count": 13,
   "id": "f364a3e9",
   "metadata": {},
   "outputs": [
    {
     "data": {
      "text/plain": [
       "'F1 score para nb es: 0.1227'"
      ]
     },
     "execution_count": 13,
     "metadata": {},
     "output_type": "execute_result"
    }
   ],
   "source": [
    "f\"F1 score para nb es: {f1_score(y_test,y_preds_nb , average='weighted'):.4}\""
   ]
  },
  {
   "cell_type": "code",
   "execution_count": 14,
   "id": "39622431",
   "metadata": {},
   "outputs": [
    {
     "data": {
      "text/plain": [
       "'Recall para nb es: 0.2802'"
      ]
     },
     "execution_count": 14,
     "metadata": {},
     "output_type": "execute_result"
    }
   ],
   "source": [
    "f\"Recall para nb es: {recall_score(y_test,y_preds_nb, average='micro'):.4}\""
   ]
  },
  {
   "cell_type": "code",
   "execution_count": 15,
   "id": "5bbe6dfb",
   "metadata": {},
   "outputs": [
    {
     "data": {
      "text/plain": [
       "'Precision para nb es: 0.2802'"
      ]
     },
     "execution_count": 15,
     "metadata": {},
     "output_type": "execute_result"
    }
   ],
   "source": [
    "f\"Precision para nb es: {precision_score(y_test,y_preds_nb , average= 'micro'):.4}\""
   ]
  },
  {
   "cell_type": "markdown",
   "id": "7eadb737",
   "metadata": {},
   "source": [
    "#### KNN"
   ]
  },
  {
   "cell_type": "code",
   "execution_count": 16,
   "id": "5bd254df",
   "metadata": {},
   "outputs": [
    {
     "data": {
      "text/plain": [
       "'La accuracy para KNN es: 0.28'"
      ]
     },
     "execution_count": 16,
     "metadata": {},
     "output_type": "execute_result"
    }
   ],
   "source": [
    "neigh = KNeighborsClassifier(n_neighbors=30)\n",
    "neigh.fit(X_train, y_train)\n",
    "y_preds_neigh = neigh.predict(X_test)\n",
    "f\"La accuracy para KNN es: {accuracy_score(y_test,y_preds_neigh):.4}\""
   ]
  },
  {
   "cell_type": "code",
   "execution_count": 17,
   "id": "193597c2",
   "metadata": {},
   "outputs": [
    {
     "data": {
      "text/plain": [
       "'F1 score para KNN es: 0.1226'"
      ]
     },
     "execution_count": 17,
     "metadata": {},
     "output_type": "execute_result"
    }
   ],
   "source": [
    "f\"F1 score para KNN es: {f1_score(y_test,y_preds_neigh , average='weighted'):.4}\""
   ]
  },
  {
   "cell_type": "code",
   "execution_count": 18,
   "id": "31dd49cd",
   "metadata": {},
   "outputs": [
    {
     "data": {
      "text/plain": [
       "'Recall para KNN es: 0.28'"
      ]
     },
     "execution_count": 18,
     "metadata": {},
     "output_type": "execute_result"
    }
   ],
   "source": [
    "f\"Recall para KNN es: {recall_score(y_test,y_preds_neigh, average= 'micro'):.4}\""
   ]
  },
  {
   "cell_type": "code",
   "execution_count": 19,
   "id": "28a7ceba",
   "metadata": {},
   "outputs": [
    {
     "data": {
      "text/plain": [
       "'Precision para KNN es: 0.28'"
      ]
     },
     "execution_count": 19,
     "metadata": {},
     "output_type": "execute_result"
    }
   ],
   "source": [
    "f\"Precision para KNN es: {precision_score(y_test,y_preds_neigh, average= 'micro' ):.4}\""
   ]
  },
  {
   "cell_type": "markdown",
   "id": "4bbc4c06",
   "metadata": {},
   "source": [
    "#### SVM"
   ]
  },
  {
   "cell_type": "code",
   "execution_count": 20,
   "id": "3fad09af",
   "metadata": {},
   "outputs": [
    {
     "name": "stderr",
     "output_type": "stream",
     "text": [
      "C:\\Users\\crisf\\anaconda3\\lib\\site-packages\\sklearn\\svm\\_base.py:1244: ConvergenceWarning: Liblinear failed to converge, increase the number of iterations.\n",
      "  warnings.warn(\n"
     ]
    },
    {
     "data": {
      "text/plain": [
       "'La accuracy para SVM es: 0.03512'"
      ]
     },
     "execution_count": 20,
     "metadata": {},
     "output_type": "execute_result"
    }
   ],
   "source": [
    "model2=LinearSVC(max_iter=5, penalty='l2', random_state=2)\n",
    "model2.fit(X_train,y_train)\n",
    "y_preds_svm = model2.predict(X_test)\n",
    "f\"La accuracy para SVM es: {accuracy_score(y_test,y_preds_svm):.4}\""
   ]
  },
  {
   "cell_type": "code",
   "execution_count": 21,
   "id": "6e05953a",
   "metadata": {},
   "outputs": [
    {
     "data": {
      "text/plain": [
       "'F1 score para SVM es: 0.006116'"
      ]
     },
     "execution_count": 21,
     "metadata": {},
     "output_type": "execute_result"
    }
   ],
   "source": [
    "f\"F1 score para SVM es: {f1_score(y_test,y_preds_svm, average='weighted'):.4}\""
   ]
  },
  {
   "cell_type": "code",
   "execution_count": 22,
   "id": "0454b4bc",
   "metadata": {},
   "outputs": [
    {
     "data": {
      "text/plain": [
       "'Recall para SVM es: 0.03512'"
      ]
     },
     "execution_count": 22,
     "metadata": {},
     "output_type": "execute_result"
    }
   ],
   "source": [
    "f\"Recall para SVM es: {recall_score(y_test,y_preds_svm, average= 'micro'):.4}\""
   ]
  },
  {
   "cell_type": "code",
   "execution_count": 23,
   "id": "6a1a69db",
   "metadata": {},
   "outputs": [
    {
     "data": {
      "text/plain": [
       "'Precision para KNN es: 0.28'"
      ]
     },
     "execution_count": 23,
     "metadata": {},
     "output_type": "execute_result"
    }
   ],
   "source": [
    "f\"Precision para KNN es: {precision_score(y_test,y_preds_neigh , average= 'micro'):.4}\""
   ]
  },
  {
   "cell_type": "markdown",
   "id": "6e52430a",
   "metadata": {},
   "source": [
    "#### Logistic Regression"
   ]
  },
  {
   "cell_type": "code",
   "execution_count": 24,
   "id": "9b7df596",
   "metadata": {},
   "outputs": [
    {
     "data": {
      "text/plain": [
       "'La accuracy para Logistir Regression es: 0.05127'"
      ]
     },
     "execution_count": 24,
     "metadata": {},
     "output_type": "execute_result"
    }
   ],
   "source": [
    "lr = LogisticRegressionCV(cv=5, random_state=0, max_iter=10000, solver='lbfgs', class_weight='balanced')\n",
    "lr.fit(X_train,y_train)\n",
    "y_preds_lr = lr.predict(X_test)\n",
    "f\"La accuracy para Logistir Regression es: {accuracy_score(y_test,y_preds_lr):.4}\""
   ]
  },
  {
   "cell_type": "code",
   "execution_count": 25,
   "id": "37ab1751",
   "metadata": {},
   "outputs": [
    {
     "data": {
      "text/plain": [
       "'F1 score para Logistir Regression es: 0.01056'"
      ]
     },
     "execution_count": 25,
     "metadata": {},
     "output_type": "execute_result"
    }
   ],
   "source": [
    "f\"F1 score para Logistir Regression es: {f1_score(y_test,y_preds_lr, average='weighted'):.4}\""
   ]
  },
  {
   "cell_type": "code",
   "execution_count": 26,
   "id": "4736a603",
   "metadata": {},
   "outputs": [
    {
     "data": {
      "text/plain": [
       "'Recall para Logistir Regression es: 0.05127'"
      ]
     },
     "execution_count": 26,
     "metadata": {},
     "output_type": "execute_result"
    }
   ],
   "source": [
    "f\"Recall para Logistir Regression es: {recall_score(y_test,y_preds_lr, average= 'micro'):.4}\""
   ]
  },
  {
   "cell_type": "code",
   "execution_count": 27,
   "id": "1dc5900c",
   "metadata": {},
   "outputs": [
    {
     "data": {
      "text/plain": [
       "'Precision para KNN es: 0.28'"
      ]
     },
     "execution_count": 27,
     "metadata": {},
     "output_type": "execute_result"
    }
   ],
   "source": [
    "f\"Precision para KNN es: {precision_score(y_test,y_preds_neigh, average= 'micro' ):.4}\""
   ]
  },
  {
   "cell_type": "markdown",
   "id": "74a3e750",
   "metadata": {},
   "source": [
    "### Método 2: Using Count Vectorizer Model for Featurization of Text"
   ]
  },
  {
   "cell_type": "code",
   "execution_count": 28,
   "id": "d50525d7",
   "metadata": {},
   "outputs": [
    {
     "name": "stderr",
     "output_type": "stream",
     "text": [
      "C:\\Users\\crisf\\anaconda3\\lib\\site-packages\\sklearn\\feature_extraction\\text.py:528: UserWarning: The parameter 'token_pattern' will not be used since 'tokenizer' is not None'\n",
      "  warnings.warn(\n"
     ]
    }
   ],
   "source": [
    "from sklearn.feature_extraction.text import CountVectorizer\n",
    "Y=count_text['emotion']\n",
    "x=count_text['text']\n",
    "X_train,X_test,y_train,y_test= train_test_split(x,Y, test_size=0.2, random_state=3)\n",
    "X_train=X_train.apply(lambda x: ' '.join(x))\n",
    "X_test=X_test.apply(lambda x: ' '.join(x))\n",
    "vect  = CountVectorizer(lowercase= True,stop_words='english', analyzer='word', token_pattern= 'str', tokenizer=tokenization)\n",
    "X_vec = vect.fit_transform(X_train)\n",
    "X_test_vec = vect.transform(X_test)"
   ]
  },
  {
   "cell_type": "markdown",
   "id": "df780c7d",
   "metadata": {},
   "source": [
    "#### Naive Bayes"
   ]
  },
  {
   "cell_type": "code",
   "execution_count": 29,
   "id": "301c09c3",
   "metadata": {},
   "outputs": [
    {
     "data": {
      "text/plain": [
       "'La accuracy para nb es: 0.3134'"
      ]
     },
     "execution_count": 29,
     "metadata": {},
     "output_type": "execute_result"
    }
   ],
   "source": [
    "nb= BernoulliNB(force_alpha=True)\n",
    "nb.fit(X_vec, y_train)\n",
    "y_preds_nb = nb.predict(X_test_vec)\n",
    "f\"La accuracy para nb es: {accuracy_score(y_test,y_preds_nb):.4}\""
   ]
  },
  {
   "cell_type": "code",
   "execution_count": 30,
   "id": "da24b720",
   "metadata": {},
   "outputs": [
    {
     "data": {
      "text/plain": [
       "'F1 score para nb es: 0.179'"
      ]
     },
     "execution_count": 30,
     "metadata": {},
     "output_type": "execute_result"
    }
   ],
   "source": [
    "f\"F1 score para nb es: {f1_score(y_test,y_preds_nb , average='weighted'):.4}\""
   ]
  },
  {
   "cell_type": "code",
   "execution_count": 31,
   "id": "637aa9d4",
   "metadata": {},
   "outputs": [
    {
     "data": {
      "text/plain": [
       "'Recall para nb es: 0.3134'"
      ]
     },
     "execution_count": 31,
     "metadata": {},
     "output_type": "execute_result"
    }
   ],
   "source": [
    "f\"Recall para nb es: {recall_score(y_test,y_preds_nb, average= 'micro' ):.4}\""
   ]
  },
  {
   "cell_type": "code",
   "execution_count": 32,
   "id": "9f777307",
   "metadata": {},
   "outputs": [
    {
     "data": {
      "text/plain": [
       "'Precision para nb es: 0.3134'"
      ]
     },
     "execution_count": 32,
     "metadata": {},
     "output_type": "execute_result"
    }
   ],
   "source": [
    "f\"Precision para nb es: {precision_score(y_test,y_preds_nb, average= 'micro' ):.4}\""
   ]
  },
  {
   "cell_type": "markdown",
   "id": "c22677e9",
   "metadata": {},
   "source": [
    "#### KNN"
   ]
  },
  {
   "cell_type": "code",
   "execution_count": 33,
   "id": "0f7aa295",
   "metadata": {},
   "outputs": [
    {
     "data": {
      "text/plain": [
       "'La accuracy para KNN es: 0.3838'"
      ]
     },
     "execution_count": 33,
     "metadata": {},
     "output_type": "execute_result"
    }
   ],
   "source": [
    "neigh = KNeighborsClassifier(n_neighbors=30)\n",
    "neigh.fit(X_vec, y_train)\n",
    "y_preds_neigh = neigh.predict(X_test_vec)\n",
    "f\"La accuracy para KNN es: {accuracy_score(y_test,y_preds_neigh):.4}\""
   ]
  },
  {
   "cell_type": "code",
   "execution_count": 34,
   "id": "1b71a79c",
   "metadata": {},
   "outputs": [
    {
     "data": {
      "text/plain": [
       "'F1 score para SVM es: 0.2772'"
      ]
     },
     "execution_count": 34,
     "metadata": {},
     "output_type": "execute_result"
    }
   ],
   "source": [
    "f\"F1 score para SVM es: {f1_score(y_test,y_preds_neigh , average='weighted'):.4}\""
   ]
  },
  {
   "cell_type": "code",
   "execution_count": 35,
   "id": "b91a46f8",
   "metadata": {},
   "outputs": [
    {
     "data": {
      "text/plain": [
       "'Recall para KNN es: 0.3838'"
      ]
     },
     "execution_count": 35,
     "metadata": {},
     "output_type": "execute_result"
    }
   ],
   "source": [
    "f\"Recall para KNN es: {recall_score(y_test,y_preds_neigh, average= 'micro' ):.4}\""
   ]
  },
  {
   "cell_type": "code",
   "execution_count": 36,
   "id": "feffaab4",
   "metadata": {},
   "outputs": [
    {
     "data": {
      "text/plain": [
       "'Precision para KNN es: 0.3838'"
      ]
     },
     "execution_count": 36,
     "metadata": {},
     "output_type": "execute_result"
    }
   ],
   "source": [
    "f\"Precision para KNN es: {precision_score(y_test,y_preds_neigh , average= 'micro'):.4}\""
   ]
  },
  {
   "cell_type": "markdown",
   "id": "fda9fbd1",
   "metadata": {},
   "source": [
    "#### SVM"
   ]
  },
  {
   "cell_type": "code",
   "execution_count": 37,
   "id": "65f0b111",
   "metadata": {},
   "outputs": [
    {
     "name": "stderr",
     "output_type": "stream",
     "text": [
      "C:\\Users\\crisf\\anaconda3\\lib\\site-packages\\sklearn\\svm\\_base.py:1244: ConvergenceWarning: Liblinear failed to converge, increase the number of iterations.\n",
      "  warnings.warn(\n"
     ]
    },
    {
     "data": {
      "text/plain": [
       "'La accuracy para SVM es: 0.3838'"
      ]
     },
     "execution_count": 37,
     "metadata": {},
     "output_type": "execute_result"
    }
   ],
   "source": [
    "model2=LinearSVC(max_iter=5, penalty='l2', random_state=2)\n",
    "model2.fit(X_vec,y_train)\n",
    "y_preds_svm = model2.predict(X_test_vec)\n",
    "f\"La accuracy para SVM es: {accuracy_score(y_test,y_preds_neigh ):.4}\""
   ]
  },
  {
   "cell_type": "code",
   "execution_count": 38,
   "id": "3705826d",
   "metadata": {},
   "outputs": [
    {
     "data": {
      "text/plain": [
       "'F1 score para SVM es: 0.338'"
      ]
     },
     "execution_count": 38,
     "metadata": {},
     "output_type": "execute_result"
    }
   ],
   "source": [
    "f\"F1 score para SVM es: {f1_score(y_test,y_preds_svm, average='weighted'):.4}\""
   ]
  },
  {
   "cell_type": "code",
   "execution_count": 39,
   "id": "c372f40f",
   "metadata": {},
   "outputs": [
    {
     "data": {
      "text/plain": [
       "'Recall para SVM es: 0.3427'"
      ]
     },
     "execution_count": 39,
     "metadata": {},
     "output_type": "execute_result"
    }
   ],
   "source": [
    "f\"Recall para SVM es: {recall_score(y_test,y_preds_svm, average= 'micro'):.4}\""
   ]
  },
  {
   "cell_type": "code",
   "execution_count": 40,
   "id": "4a545975",
   "metadata": {},
   "outputs": [
    {
     "data": {
      "text/plain": [
       "'Precision para KNN es: 0.3838'"
      ]
     },
     "execution_count": 40,
     "metadata": {},
     "output_type": "execute_result"
    }
   ],
   "source": [
    "f\"Precision para KNN es: {precision_score(y_test,y_preds_neigh, average= 'micro' ):.4}\""
   ]
  },
  {
   "cell_type": "markdown",
   "id": "766bbf53",
   "metadata": {},
   "source": [
    "#### Logistic Regression"
   ]
  },
  {
   "cell_type": "code",
   "execution_count": 41,
   "id": "4a9484d5",
   "metadata": {},
   "outputs": [
    {
     "data": {
      "text/plain": [
       "'La accuracy para Logistir Regression es: 0.3797'"
      ]
     },
     "execution_count": 41,
     "metadata": {},
     "output_type": "execute_result"
    }
   ],
   "source": [
    "lr = LogisticRegressionCV(cv=5, random_state=0, max_iter=10000, solver='lbfgs', class_weight='balanced')\n",
    "lr.fit(X_vec,y_train)\n",
    "y_preds_lr = lr.predict(X_test_vec)\n",
    "f\"La accuracy para Logistir Regression es: {accuracy_score(y_test,y_preds_lr):.4}\""
   ]
  },
  {
   "cell_type": "code",
   "execution_count": 42,
   "id": "405f2ca6",
   "metadata": {},
   "outputs": [
    {
     "data": {
      "text/plain": [
       "'F1 score para Logistir Regression es: 0.3827'"
      ]
     },
     "execution_count": 42,
     "metadata": {},
     "output_type": "execute_result"
    }
   ],
   "source": [
    "f\"F1 score para Logistir Regression es: {f1_score(y_test,y_preds_lr, average='weighted'):.4}\""
   ]
  },
  {
   "cell_type": "code",
   "execution_count": 43,
   "id": "1255fef2",
   "metadata": {},
   "outputs": [
    {
     "data": {
      "text/plain": [
       "'Recall para Logistir Regression es: 0.3797'"
      ]
     },
     "execution_count": 43,
     "metadata": {},
     "output_type": "execute_result"
    }
   ],
   "source": [
    "f\"Recall para Logistir Regression es: {recall_score(y_test,y_preds_lr, average= 'micro'):.4}\""
   ]
  },
  {
   "cell_type": "code",
   "execution_count": 44,
   "id": "a1c74f1e",
   "metadata": {},
   "outputs": [
    {
     "data": {
      "text/plain": [
       "'Precision para KNN es: 0.3838'"
      ]
     },
     "execution_count": 44,
     "metadata": {},
     "output_type": "execute_result"
    }
   ],
   "source": [
    "f\"Precision para KNN es: {precision_score(y_test,y_preds_neigh, average= 'micro' ):.4}\""
   ]
  },
  {
   "cell_type": "markdown",
   "id": "0b8a565c",
   "metadata": {},
   "source": [
    "### Método 3: Using TF IDF Vectorizer for Featurization of Text"
   ]
  },
  {
   "cell_type": "code",
   "execution_count": 45,
   "id": "d7491eff",
   "metadata": {},
   "outputs": [],
   "source": [
    "from sklearn.feature_extraction.text import TfidfVectorizer\n",
    "vect_tf = TfidfVectorizer(ngram_range=(1,1),stop_words='english',max_features=3500)\n",
    "Y=count_text['emotion']\n",
    "x=count_text['text']\n",
    "X_train,X_test,y_train,y_test= train_test_split(x,Y, test_size=0.2, random_state=3)\n",
    "X_train=X_train.apply(lambda x: ' '.join(x))\n",
    "X_test=X_test.apply(lambda x: ' '.join(x))\n",
    "X_vec_tf = vect_tf.fit_transform(X_train)\n",
    "X_test_vec_tf = vect_tf.transform(X_test)\n",
    "X_train=X_vec_tf\n",
    "X_test=X_test_vec_tf\n"
   ]
  },
  {
   "cell_type": "markdown",
   "id": "740a9bac",
   "metadata": {},
   "source": [
    "#### Naive Bayes"
   ]
  },
  {
   "cell_type": "code",
   "execution_count": 46,
   "id": "fae8eb93",
   "metadata": {},
   "outputs": [
    {
     "data": {
      "text/plain": [
       "'La accuracy para nb es: 0.4061'"
      ]
     },
     "execution_count": 46,
     "metadata": {},
     "output_type": "execute_result"
    }
   ],
   "source": [
    "nb= BernoulliNB(force_alpha=True)\n",
    "nb.fit(X_train, y_train)\n",
    "y_preds_nb = nb.predict(X_test)\n",
    "f\"La accuracy para nb es: {accuracy_score(y_test,y_preds_nb):.4}\""
   ]
  },
  {
   "cell_type": "code",
   "execution_count": 47,
   "id": "5e29f6a2",
   "metadata": {},
   "outputs": [
    {
     "data": {
      "text/plain": [
       "'F1 score para nb es: 0.3393'"
      ]
     },
     "execution_count": 47,
     "metadata": {},
     "output_type": "execute_result"
    }
   ],
   "source": [
    "f\"F1 score para nb es: {f1_score(y_test,y_preds_nb , average='weighted'):.4}\""
   ]
  },
  {
   "cell_type": "code",
   "execution_count": 48,
   "id": "a7c2f0ab",
   "metadata": {},
   "outputs": [
    {
     "data": {
      "text/plain": [
       "'Recall para nb es: 0.4061'"
      ]
     },
     "execution_count": 48,
     "metadata": {},
     "output_type": "execute_result"
    }
   ],
   "source": [
    "f\"Recall para nb es: {recall_score(y_test,y_preds_nb , average= 'micro'):.4}\""
   ]
  },
  {
   "cell_type": "code",
   "execution_count": 49,
   "id": "b2a6b2ed",
   "metadata": {},
   "outputs": [
    {
     "data": {
      "text/plain": [
       "'Precision para nb es: 0.4061'"
      ]
     },
     "execution_count": 49,
     "metadata": {},
     "output_type": "execute_result"
    }
   ],
   "source": [
    "f\"Precision para nb es: {precision_score(y_test,y_preds_nb, average= 'micro' ):.4}\""
   ]
  },
  {
   "cell_type": "markdown",
   "id": "830a659d",
   "metadata": {},
   "source": [
    "### Debido a que Naive Bayes junto al método 3 obtuvieron las mejores métricas, se obtendrá la matriz de confusión"
   ]
  },
  {
   "cell_type": "code",
   "execution_count": 50,
   "id": "7d8023e1",
   "metadata": {},
   "outputs": [
    {
     "data": {
      "text/plain": [
       "<Axes: >"
      ]
     },
     "execution_count": 50,
     "metadata": {},
     "output_type": "execute_result"
    },
    {
     "data": {
      "image/png": "[encoded data removed]",
      "text/plain": [
       "<Figure size 1600x1100 with 2 Axes>"
      ]
     },
     "metadata": {},
     "output_type": "display_data"
    }
   ],
   "source": [
    "cf_matrix_xgb = sklearn.metrics.confusion_matrix(y_test,y_preds_nb)\n",
    "array = cf_matrix_xgb\n",
    "df_cm = pd.DataFrame(array, index = [i for i in pd.Series(nb.classes_).str.strip().astype(int).map(label_to_text)], \n",
    "                     columns =[i for i in pd.Series(nb.classes_).str.strip().astype(int).map(label_to_text)])\n",
    "plt.figure(figsize = (16,11))\n",
    "sns.heatmap(df_cm, annot=True, fmt='g')\n"
   ]
  },
  {
   "cell_type": "markdown",
   "id": "3cbdd3b4",
   "metadata": {},
   "source": [
    "#### KNN"
   ]
  },
  {
   "cell_type": "code",
   "execution_count": 51,
   "id": "7e40f536",
   "metadata": {},
   "outputs": [
    {
     "data": {
      "text/plain": [
       "'La accuracy para KNN es: 0.3264'"
      ]
     },
     "execution_count": 51,
     "metadata": {},
     "output_type": "execute_result"
    }
   ],
   "source": [
    "neigh = KNeighborsClassifier(n_neighbors=30)\n",
    "neigh.fit(X_train, y_train)\n",
    "y_preds_neigh = neigh.predict(X_test)\n",
    "f\"La accuracy para KNN es: {accuracy_score(y_test,y_preds_neigh):.4}\""
   ]
  },
  {
   "cell_type": "code",
   "execution_count": 52,
   "id": "8546646e",
   "metadata": {},
   "outputs": [
    {
     "data": {
      "text/plain": [
       "'F1 score para KNN es: 0.2191'"
      ]
     },
     "execution_count": 52,
     "metadata": {},
     "output_type": "execute_result"
    }
   ],
   "source": [
    "f\"F1 score para KNN es: {f1_score(y_test,y_preds_neigh , average='weighted'):.4}\""
   ]
  },
  {
   "cell_type": "code",
   "execution_count": 53,
   "id": "aa2e7da1",
   "metadata": {},
   "outputs": [
    {
     "data": {
      "text/plain": [
       "'Recall para KNN es: 0.3264'"
      ]
     },
     "execution_count": 53,
     "metadata": {},
     "output_type": "execute_result"
    }
   ],
   "source": [
    "f\"Recall para KNN es: {recall_score(y_test,y_preds_neigh, average= 'micro' ):.4}\""
   ]
  },
  {
   "cell_type": "code",
   "execution_count": 54,
   "id": "deb89a1c",
   "metadata": {},
   "outputs": [
    {
     "data": {
      "text/plain": [
       "'Precision para KNN es: 0.3264'"
      ]
     },
     "execution_count": 54,
     "metadata": {},
     "output_type": "execute_result"
    }
   ],
   "source": [
    "f\"Precision para KNN es: {precision_score(y_test,y_preds_neigh, average= 'micro' ):.4}\""
   ]
  },
  {
   "cell_type": "markdown",
   "id": "308c6bba",
   "metadata": {},
   "source": [
    "#### SVM"
   ]
  },
  {
   "cell_type": "code",
   "execution_count": 55,
   "id": "65468d2b",
   "metadata": {},
   "outputs": [
    {
     "name": "stderr",
     "output_type": "stream",
     "text": [
      "C:\\Users\\crisf\\anaconda3\\lib\\site-packages\\sklearn\\svm\\_base.py:1244: ConvergenceWarning: Liblinear failed to converge, increase the number of iterations.\n",
      "  warnings.warn(\n"
     ]
    },
    {
     "data": {
      "text/plain": [
       "'La accuracy para SVM es: 0.3967'"
      ]
     },
     "execution_count": 55,
     "metadata": {},
     "output_type": "execute_result"
    }
   ],
   "source": [
    "model2=LinearSVC(max_iter=5, penalty='l2', random_state=2)\n",
    "model2.fit(X_train,y_train)\n",
    "y_preds_svm = model2.predict(X_test)\n",
    "f\"La accuracy para SVM es: {accuracy_score(y_test,y_preds_svm):.4}\""
   ]
  },
  {
   "cell_type": "code",
   "execution_count": 56,
   "id": "fcb3e3d3",
   "metadata": {},
   "outputs": [
    {
     "data": {
      "text/plain": [
       "'F1 score para SVM es: 0.3842'"
      ]
     },
     "execution_count": 56,
     "metadata": {},
     "output_type": "execute_result"
    }
   ],
   "source": [
    "f\"F1 score para SVM es: {f1_score(y_test,y_preds_svm, average='weighted'):.4}\""
   ]
  },
  {
   "cell_type": "code",
   "execution_count": 57,
   "id": "cccfae58",
   "metadata": {},
   "outputs": [
    {
     "data": {
      "text/plain": [
       "'Recall para SVM es: 0.3967'"
      ]
     },
     "execution_count": 57,
     "metadata": {},
     "output_type": "execute_result"
    }
   ],
   "source": [
    "f\"Recall para SVM es: {recall_score(y_test,y_preds_svm, average= 'micro'):.4}\""
   ]
  },
  {
   "cell_type": "code",
   "execution_count": 58,
   "id": "09f7869f",
   "metadata": {},
   "outputs": [
    {
     "data": {
      "text/plain": [
       "'Precision para SVM es: 0.3967'"
      ]
     },
     "execution_count": 58,
     "metadata": {},
     "output_type": "execute_result"
    }
   ],
   "source": [
    "f\"Precision para SVM es: {precision_score(y_test,y_preds_svm, average= 'micro'):.4}\"\n"
   ]
  },
  {
   "cell_type": "markdown",
   "id": "396953b6",
   "metadata": {},
   "source": [
    "#### Logistic Regression"
   ]
  },
  {
   "cell_type": "code",
   "execution_count": 59,
   "id": "6bf12ccc",
   "metadata": {},
   "outputs": [
    {
     "data": {
      "text/plain": [
       "'La accuracy para Logistir Regression es: 0.3563'"
      ]
     },
     "execution_count": 59,
     "metadata": {},
     "output_type": "execute_result"
    }
   ],
   "source": [
    "lr = LogisticRegressionCV(cv=5, random_state=0, max_iter=10000, solver='lbfgs', class_weight='balanced')\n",
    "lr.fit(X_train,y_train)\n",
    "y_preds_lr = lr.predict(X_test)\n",
    "f\"La accuracy para Logistir Regression es: {accuracy_score(y_test,y_preds_lr):.4}\""
   ]
  },
  {
   "cell_type": "code",
   "execution_count": 60,
   "id": "ae47d5f8",
   "metadata": {},
   "outputs": [
    {
     "data": {
      "text/plain": [
       "'F1 score para Logistir Regression es: 0.3573'"
      ]
     },
     "execution_count": 60,
     "metadata": {},
     "output_type": "execute_result"
    }
   ],
   "source": [
    "f\"F1 score para Logistir Regression es: {f1_score(y_test,y_preds_lr, average='weighted'):.4}\""
   ]
  },
  {
   "cell_type": "code",
   "execution_count": 61,
   "id": "a993777e",
   "metadata": {},
   "outputs": [
    {
     "data": {
      "text/plain": [
       "'Recall para Logistir Regression es: 0.3563'"
      ]
     },
     "execution_count": 61,
     "metadata": {},
     "output_type": "execute_result"
    }
   ],
   "source": [
    "f\"Recall para Logistir Regression es: {recall_score(y_test,y_preds_lr, average= 'micro'):.4}\""
   ]
  },
  {
   "cell_type": "code",
   "execution_count": 62,
   "id": "f9abcbcc",
   "metadata": {},
   "outputs": [
    {
     "data": {
      "text/plain": [
       "'Precision para Logistir Regression es: 0.3563'"
      ]
     },
     "execution_count": 62,
     "metadata": {},
     "output_type": "execute_result"
    }
   ],
   "source": [
    "f\"Precision para Logistir Regression es: {precision_score(y_test,y_preds_lr, average= 'micro'):.4}\""
   ]
  },
  {
   "cell_type": "markdown",
   "id": "4533bc14",
   "metadata": {},
   "source": [
    "## Predicción de text_classification_test.csv"
   ]
  },
  {
   "cell_type": "code",
   "execution_count": 63,
   "id": "db76d160",
   "metadata": {},
   "outputs": [],
   "source": [
    "test_1=test['text']\n",
    "test_1=test_1.apply(lambda x: ' '.join(x))\n",
    "test_1 = vect_tf.transform(test_1)"
   ]
  },
  {
   "cell_type": "code",
   "execution_count": 64,
   "id": "576aa774",
   "metadata": {},
   "outputs": [],
   "source": [
    "pred=nb.predict(test_1)\n",
    "pred_df=pd.DataFrame(pred, columns=['emotion'])\n",
    "emotion_pred_number=pred_df.value_counts().reset_index()\n",
    "emotion_pred_number.columns=['emotion', 'count']"
   ]
  },
  {
   "cell_type": "code",
   "execution_count": 65,
   "id": "de2a1091",
   "metadata": {},
   "outputs": [
    {
     "data": {
      "image/png": "[encoded data removed]",
      "text/plain": [
       "<Figure size 2200x1500 with 1 Axes>"
      ]
     },
     "metadata": {},
     "output_type": "display_data"
    }
   ],
   "source": [
    "g=sns.catplot(y='count', x='emotion',data=emotion_pred_number, kind='bar')\n",
    "g.fig.set_size_inches(22, 15)\n",
    "g.fig.subplots_adjust(top=0.81, right=0.86)\n",
    "ax = g.facet_axis(0, 0)\n",
    "for c in ax.containers:\n",
    "    labels = emotion_pred_number['emotion'].str.strip().astype(int).map(label_to_text)\n",
    "    ax.bar_label(c, labels=labels, label_type='edge')"
   ]
  },
  {
   "cell_type": "markdown",
   "id": "1ca993d0",
   "metadata": {},
   "source": [
    "### Preguntas: \n",
    "\n",
    "1. ¿De qué manera se puede complementar la solución? Pensar en propuestas para el cliente.\n",
    "2. ¿Cómo se podría simplificar la tarea?\n",
    "3. ¿Cuáles pueden ser las limitaciones, riesgos, sesgos de los modelos al implementar este tipo de soluciones?\n",
    "4. ¿Qué otras cosas hay que considerar al momento de implementar un proyecto como este?"
   ]
  },
  {
   "cell_type": "markdown",
   "id": "bd510022",
   "metadata": {},
   "source": [
    "### Respuestas  "
   ]
  },
  {
   "cell_type": "markdown",
   "id": "8acfa59b",
   "metadata": {},
   "source": [
    "1. Propuesta para el cliente: Se utilizaron todos los tipos de pre-procesamiento de texto y los métodos que más se utilizan en procesamiento de estos. Como complemento a esto, existen librerías que contienen textos con emociones o datasets en kaggle o páginas similares de machine learning, los cuales se pueden utilizar para tener más datos con los cuales los modelos puedan generalizar y obtener mejores métricas."
   ]
  },
  {
   "cell_type": "markdown",
   "id": "a52b5eab",
   "metadata": {},
   "source": [
    "2. La tarea se simplifica reduciendo el número de etiquetas y otorgándole solo 1 etiqueta (emoción) a cada texto. En contexto de modelos de machine learning, estos tienen como objetivo 'aprender' de los datos y con eso lograr una generalización para luego predecir sobre nuevos datos. Si hay un texto con más de una etiqueta, la generalización no se logra debido a que no se tendrá una correlación entre las palabras y la emoción. Además, existen emociones similares como por ejemplo 'optimism', 'joy' ,'love' ,'admiration' , 'approval', por decir algunas, que puede que tengan palabras similares, generando que la generalización sea difícil de lograr. Por eso es mejor reducir el número de etiquetas para que el modelo de machine learning cree correlaciones entre el texto y la emoción. Otra observación dificulta que los modelos aprendan es que se tiene una emoción ambigua: 'neutral', la cual capta muchas palabras y cabe la duda ¿neutral es el texto sin alguna emoción? Lo cual es paradójico, porque la respuesta 'sí' a esa pregunta, hace que se elimine esa etiqueta y se vuelvan a etiquetar los textos nuevamente y la respuesta 'no' genera lo mismo: que se elija una emoción dentro de las demás, provocando que se vuelvan a etiquetar los datos. \n",
    "\n",
    "   Siguiendo con la respuesta a la pregunta, el hecho de tener tantas emociones y pocos datos para la mayoría de estos, genera que la tarea se dificulte, es decir, se simplicaría la tarea si hubieran mas datos por emociones. Se podrían utilizar algunas técnicas para solucionar el imbalance classes, pero solo servirían para las clases con más datos, debido a que las que tienen menos datos solo repetirían los datos que ya se tienen hasta balancearlo, lo cual no aporta a la generalización de los modelos."
   ]
  },
  {
   "cell_type": "markdown",
   "id": "a8d76b5b",
   "metadata": {},
   "source": [
    "3. El riesgo que se corre es el sobreajuste, debido a que es posible que se adapten los modelos muy bien a los datos de entrenamiento y al entrar texto nuevo, el error para predecir la emoción sea muy elevado (sólo ocurre si hay pocos datos). Al igual que en el procesamiento de imágenes, se necesitan del orden de los cientos de miles o millones de datos para que el modelo pueda lograr una generalización con errores pequeños."
   ]
  },
  {
   "cell_type": "markdown",
   "id": "76c4d8a7",
   "metadata": {},
   "source": [
    "4. Las cosas que hay que considerar que cada texto solo posea 1 etiqueta para que la correlación sea alta, que haya suficiente cantidad de datos como para lograr una generalización y que la cantidad de etiquetas sea menor; existen 28 emociones y hay algunas que se parecen entre ellas, esto quiere decir, que las palabras utilizadas puede que sean similares, afectando en el aprendizaje de los modelos"
   ]
  },
  {
   "cell_type": "markdown",
   "id": "1104c7b8",
   "metadata": {},
   "source": [
    "### Se añaden las etiquetas de emociones al archivo text_classification_test.csv"
   ]
  },
  {
   "cell_type": "code",
   "execution_count": 66,
   "id": "e92f95cb",
   "metadata": {},
   "outputs": [],
   "source": [
    "test_copy=pd.read_csv('text_classification_test.csv')\n",
    "test_copy['emotion']=pred_df\n",
    "test_copy.to_csv('text_classification_test.csv', sep=';')"
   ]
  }
 ],
 "metadata": {
  "kernelspec": {
   "display_name": "Python 3 (ipykernel)",
   "language": "python",
   "name": "python3"
  },
  "language_info": {
   "codemirror_mode": {
    "name": "ipython",
    "version": 3
   },
   "file_extension": ".py",
   "mimetype": "text/x-python",
   "name": "python",
   "nbconvert_exporter": "python",
   "pygments_lexer": "ipython3",
   "version": "3.10.11"
  }
 },
 "nbformat": 4,
 "nbformat_minor": 5
}
